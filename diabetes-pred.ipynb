{
 "cells": [
  {
   "cell_type": "code",
   "execution_count": 2,
   "id": "d312edf2-ca07-4b95-930a-2117b46819b5",
   "metadata": {},
   "outputs": [
    {
     "name": "stdout",
     "output_type": "stream",
     "text": [
      "\n",
      " Model Accuracies:\n",
      "Logistic Regression Accuracy: 0.6948051948051948\n",
      "Decision Tree Accuracy: 0.577922077922078\n",
      "\n",
      "--- Predict Diabetes Based on Age & Blood Pressure ---\n"
     ]
    },
    {
     "name": "stdin",
     "output_type": "stream",
     "text": [
      "Enter Age:  50\n",
      "Enter Blood Pressure:  120\n"
     ]
    },
    {
     "name": "stdout",
     "output_type": "stream",
     "text": [
      "\n",
      " Prediction Results for the Patient:\n",
      " Logistic Regression: The patient is likely to have **Diabetes**.\n",
      " Decision Tree: The patient is likely to have **Diabetes**.\n"
     ]
    },
    {
     "name": "stderr",
     "output_type": "stream",
     "text": [
      "D:\\Python311\\Lib\\site-packages\\sklearn\\utils\\validation.py:2739: UserWarning: X does not have valid feature names, but StandardScaler was fitted with feature names\n",
      "  warnings.warn(\n"
     ]
    }
   ],
   "source": [
    "# Import necessary libraries\n",
    "import pandas as pd\n",
    "import numpy as np\n",
    "from sklearn.model_selection import train_test_split\n",
    "from sklearn.preprocessing import StandardScaler\n",
    "from sklearn.linear_model import LogisticRegression\n",
    "from sklearn.tree import DecisionTreeClassifier\n",
    "from sklearn.metrics import accuracy_score\n",
    "\n",
    "# Step 1: Load the dataset\n",
    "data = pd.read_csv(\"diabetes.csv\")\n",
    "\n",
    "# Step 2: Replace 0 in Blood Pressure with mean value\n",
    "data['BloodPressure'] = data['BloodPressure'].replace(0, data['BloodPressure'].mean())\n",
    "\n",
    "# Step 3: Select only 'Age' and 'BloodPressure' as features\n",
    "X = data[['Age', 'BloodPressure']]\n",
    "y = data['Outcome']  # 0 = Not diabetic, 1 = Diabetic\n",
    "\n",
    "# Step 4: Scale the features\n",
    "scaler = StandardScaler()\n",
    "X_scaled = scaler.fit_transform(X)\n",
    "\n",
    "# Step 5: Train-Test split\n",
    "X_train, X_test, y_train, y_test = train_test_split(X_scaled, y, test_size=0.2, random_state=0)\n",
    "\n",
    "# Step 6: Train Logistic Regression and Decision Tree models\n",
    "log_model = LogisticRegression()\n",
    "log_model.fit(X_train, y_train)\n",
    "\n",
    "tree_model = DecisionTreeClassifier()\n",
    "tree_model.fit(X_train, y_train)\n",
    "\n",
    "# Step 7: Evaluate models\n",
    "log_pred = log_model.predict(X_test)\n",
    "tree_pred = tree_model.predict(X_test)\n",
    "\n",
    "print(\"\\n Model Accuracies:\")\n",
    "print(\"Logistic Regression Accuracy:\", accuracy_score(y_test, log_pred))\n",
    "print(\"Decision Tree Accuracy:\", accuracy_score(y_test, tree_pred))\n",
    "\n",
    "# Step 8: Take user input\n",
    "print(\"\\n--- Predict Diabetes Based on Age & Blood Pressure ---\")\n",
    "age = float(input(\"Enter Age: \"))\n",
    "bp = float(input(\"Enter Blood Pressure: \"))\n",
    "\n",
    "# Step 9: Prepare input and scale\n",
    "user_input = np.array([[age, bp]])\n",
    "user_input_scaled = scaler.transform(user_input)\n",
    "\n",
    "# Step 10: Predictions\n",
    "log_result = log_model.predict(user_input_scaled)\n",
    "tree_result = tree_model.predict(user_input_scaled)\n",
    "\n",
    "# Step 11: Display Results\n",
    "print(\"\\n Prediction Results for the Patient:\")\n",
    "if log_result[0] == 1:\n",
    "    print(\" Logistic Regression: The patient is likely to have Diabetes.\")\n",
    "else:\n",
    "    print(\" Logistic Regression: The patient is not likely to have Diabetes.\")\n",
    "\n",
    "if tree_result[0] == 1:\n",
    "    print(\" Decision Tree: The patient is likely to have Diabetes.\")\n",
    "else:\n",
    "    print(\" Decision Tree: The patient is not likely to have Diabetes.\")\n"
   ]
  },
  {
   "cell_type": "code",
   "execution_count": null,
   "id": "d64e23ff-4ff4-4f10-a1bb-5799895e2261",
   "metadata": {},
   "outputs": [],
   "source": []
  },
  {
   "cell_type": "code",
   "execution_count": null,
   "id": "aa8203c9-7123-45fe-8dc8-241f460a28db",
   "metadata": {},
   "outputs": [],
   "source": []
  }
 ],
 "metadata": {
  "kernelspec": {
   "display_name": "Python 3 (ipykernel)",
   "language": "python",
   "name": "python3"
  },
  "language_info": {
   "codemirror_mode": {
    "name": "ipython",
    "version": 3
   },
   "file_extension": ".py",
   "mimetype": "text/x-python",
   "name": "python",
   "nbconvert_exporter": "python",
   "pygments_lexer": "ipython3",
   "version": "3.11.0"
  }
 },
 "nbformat": 4,
 "nbformat_minor": 5
}
